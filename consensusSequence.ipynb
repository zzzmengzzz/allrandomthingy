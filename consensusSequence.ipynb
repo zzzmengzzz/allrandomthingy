{
 "cells": [
  {
   "cell_type": "markdown",
   "metadata": {},
   "source": [
    "#<center>COMP561 Assignment 3</center>"
   ]
  },
  {
   "cell_type": "markdown",
   "metadata": {},
   "source": [
    "##Part 1: Finding consensus sequence\n",
    "Write a program to determine what is the 6-nucleotide consensus sequence (made of the extended alphabet A, C, G, T, A|C, A|G, A|T, C|G, C|T, G|T, A|C|G|T ) that is the most likely to represent the transcription factor binding site of GATA2. It is up to you to decide how to approach this problem. Don’t go overboard here – a relatively simple approach should be able to get you to the answer. No need to implement any of the fancy algorithms that researchers have published in research papers – stick to the ideas and math we’ve seen in class."
   ]
  },
  {
   "cell_type": "code",
   "execution_count": 168,
   "metadata": {
    "collapsed": false
   },
   "outputs": [],
   "source": [
    "import itertools\n",
    "\n",
    "with open(\"GATA2_chr1.fa\",\"r\") as f1:\n",
    "    GATA2 = [(line.rstrip('\\n')) for line in f1]\n",
    "with open(\"not_GATA2_chr1.fa\",\"r\") as f2:\n",
    "    NotGATA2 = [(line.rstrip('\\n')) for line in f2]"
   ]
  },
  {
   "cell_type": "code",
   "execution_count": 169,
   "metadata": {
    "collapsed": false
   },
   "outputs": [],
   "source": [
    "def separate(MyFile):\n",
    "    \n",
    "    var = 0\n",
    "    str1 = None\n",
    "    temp1 = []\n",
    "    temp2 = []\n",
    "    length = len(MyFile)\n",
    "    \n",
    "    while var < length:\n",
    "        plusOne = var + 1\n",
    "        if MyFile[var][0] is (\">\"):\n",
    "            temp1.append(MyFile[var])\n",
    "        else:\n",
    "            if str1 is None:\n",
    "                str1 = MyFile[var]\n",
    "            else:\n",
    "                str1 = str1 + MyFile[var]\n",
    "            \n",
    "            if plusOne < length:\n",
    "                if MyFile[plusOne][0] is (\">\"):\n",
    "                    temp2.append(str1)\n",
    "                    str1 = None\n",
    "            if plusOne == length:\n",
    "                temp2.append(str1)\n",
    "                str1 = None\n",
    "                return temp2\n",
    "        var += 1\n",
    "        \n",
    "    return temp2"
   ]
  },
  {
   "cell_type": "code",
   "execution_count": 184,
   "metadata": {
    "collapsed": false
   },
   "outputs": [],
   "source": [
    "def createConsensus():\n",
    "    possible = [\"A\",\"C\",\"G\",\"T\"]\n",
    "\n",
    "    expectLength = 6\n",
    "    possibleConsensus = []\n",
    "    for p in itertools.product(possible,repeat=6):\n",
    "        sequence = (''.join(p))\n",
    "        possibleConsensus.append(sequence)\n",
    "    \n",
    "    return possibleConsensus\n",
    "\n",
    "def update(myfile,possibleConsensus):\n",
    "    \n",
    "    countList = [0] * len(possibleConsensus)\n",
    "    \n",
    "    for a in range(len(myfile)):\n",
    "        wholeSequence = myfile[a]\n",
    "        seqList=[]\n",
    "        \n",
    "        for i in range(len(wholeSequence)-6):\n",
    "            sequence = wholeSequence[i:i+6]\n",
    "            if sequence not in seqList:\n",
    "                seqList.append(sequence)\n",
    "                countList[possibleConsensus.index(sequence)] += 1\n",
    "   \n",
    "    return countList\n",
    "\n",
    "def getScore(NwGATA,NwNOT):\n",
    "    score = NwGATA - NwNOT\n",
    "    return score"
   ]
  },
  {
   "cell_type": "code",
   "execution_count": 172,
   "metadata": {
    "collapsed": false
   },
   "outputs": [],
   "source": [
    "gata2 = separate(GATA2)\n",
    "notgata2 = separate(NotGATA2)\n",
    "\n",
    "possibleConsensus = createConsensus()\n"
   ]
  },
  {
   "cell_type": "code",
   "execution_count": 173,
   "metadata": {
    "collapsed": false
   },
   "outputs": [
    {
     "name": "stdout",
     "output_type": "stream",
     "text": [
      "4096\n"
     ]
    }
   ],
   "source": [
    "NwGATA = update(gata2,possibleConsensus)\n",
    "print(len(NwGATA))"
   ]
  },
  {
   "cell_type": "code",
   "execution_count": 174,
   "metadata": {
    "collapsed": false
   },
   "outputs": [
    {
     "name": "stdout",
     "output_type": "stream",
     "text": [
      "4096\n"
     ]
    }
   ],
   "source": [
    "NwNOT = update(notgata2,possibleConsensus)\n",
    "print(len(NwNOT))"
   ]
  },
  {
   "cell_type": "code",
   "execution_count": 196,
   "metadata": {
    "collapsed": false
   },
   "outputs": [],
   "source": [
    "enrichment = [getScore(x,y) for x,y in zip(NwGATA,NwNOT)]"
   ]
  },
  {
   "cell_type": "code",
   "execution_count": 197,
   "metadata": {
    "collapsed": false
   },
   "outputs": [
    {
     "name": "stdout",
     "output_type": "stream",
     "text": [
      "[-1945, -1227, -2328, -1503, -1511, -1476, -502, -1062, -1813, -1239]\n",
      "3895\n",
      "3895\n",
      "AGATAA\n",
      "7151\n",
      "560\n"
     ]
    }
   ],
   "source": [
    "print(enrichment[:10])\n",
    "print(enrichment.index(max(enrichment)))\n",
    "print(NwGATA.index(max(NwGATA)))\n",
    "print(possibleConsensus[560])\n",
    "print(max(NwNOT))\n",
    "print(enrichment.index(408))"
   ]
  },
  {
   "cell_type": "code",
   "execution_count": 229,
   "metadata": {
    "collapsed": false
   },
   "outputs": [
    {
     "name": "stdout",
     "output_type": "stream",
     "text": [
      "[5, 'A']\n",
      "(['T', 'T', 'A', 'T', 'C', 'TA'], ['AT', 'G', 'A', 'T', 'A', 'A'])\n"
     ]
    }
   ],
   "source": [
    "def match(s1, s2):\n",
    "    ok = False\n",
    "    position = None\n",
    "    \n",
    "    for c1, c2 in zip(s1, s2):\n",
    "        if c1 != c2:\n",
    "            if ok:\n",
    "                return False,position\n",
    "            else:\n",
    "                ok = True\n",
    "                position = s1.index(c1)\n",
    "\n",
    "    return ok,position\n",
    "\n",
    "def getPredict(enrichment,possibleConsensus):\n",
    "    bestvalue=0\n",
    "    bestprediction=\"\"\n",
    "    check=[\"A\",\"C\",\"G\",\"T\"]\n",
    "    \n",
    "    index = enrichment.index(max(enrichment))\n",
    "    bestvalue=enrichment[index]\n",
    "    bestprediction = possibleConsensus[index]\n",
    "    \n",
    "    sortResult = sorted(enrichment)\n",
    "    secondhighest = int(sortResult[-2])\n",
    "    index2 = enrichment.index(secondhighest)\n",
    "    bv2 = enrichment[index2]\n",
    "    prediction2 = possibleConsensus[index2]\n",
    "    \n",
    "    tempPC = []\n",
    "    tempen = []\n",
    "    templist = []\n",
    "    templist2 = []\n",
    "    \n",
    "    for i in range(len(enrichment)):\n",
    "        if enrichment[i] > 0:\n",
    "            tempPC.append(possibleConsensus[i])\n",
    "            tempen.append(enrichment[i])\n",
    "    \n",
    "    for i in range(6):\n",
    "        test = bestprediction\n",
    "        for j in check:\n",
    "            test = list(test)\n",
    "            test[i] = j\n",
    "            test = ''.join(test)\n",
    "            if test != bestprediction:\n",
    "                if test in tempPC:\n",
    "                    ind1 = tempPC.index(test)\n",
    "                    value = enrichment[ind1]\n",
    "                    templist.append([i,j])\n",
    "                    break\n",
    "\n",
    "    for i in range(6):\n",
    "        test = prediction2\n",
    "        for j in check:\n",
    "            test = list(test)\n",
    "            test[i] = j\n",
    "            test = ''.join(test)\n",
    "    \n",
    "            if test != prediction2:\n",
    "                if test in tempPC:\n",
    "                    ind2 = tempPC.index(test)\n",
    "                    value2 = enrichment[ind2]\n",
    "                    templist2.append([i,j])\n",
    "\n",
    "    returning = list(bestprediction)\n",
    "    returning2 = list(prediction2)\n",
    "    \n",
    "    for i in templist:\n",
    "        index2 = i[0]\n",
    "        nucleo = i[1]\n",
    "        print(i)\n",
    "        returning[index2] = returning[index2] + nucleo\n",
    "\n",
    "    for i in templist2:\n",
    "        index2 = i[0]\n",
    "        nucleo = i[1]\n",
    "        returning2[index2] = returning2[index2] + nucleo\n",
    "    \n",
    "    return (returning,returning2)\n",
    "\n",
    "predic=getPredict(enrichment,possibleConsensus)\n",
    "print(predic)"
   ]
  },
  {
   "cell_type": "markdown",
   "metadata": {},
   "source": [
    "#Part 2 : Finding motif\n",
    "Choosing the appropriate type of model to represent the binding sites of a given transcription factor is not always obvious. Position weight matrices provide a very rich representation but may need a lot of known sites to be estimated correctly. Consensus sequences are less flexible but require fewer examples to be learned correctly. Here, we will describe a way to select the most appropriate model. A motif is a function f: Σ6 -> {0,1}. Some motifs can be represented using consensus sequences. In that case, we have:<br>\n",
    "\n",
    "f (w) = 1 if w matches a certain regular expression, <br>\n",
    "0 otherwise.\n",
    "\n",
    "A motif can also be represented by a position weight matrix. In that case, we have:<br>\n",
    "f(w) = 1 if the likelihood of w under a certain PWM is larger than t,<br>\n",
    "0 otherwise for some threshold t.<br>\n",
    "\n",
    "The usefulness of a motif model depends on two things: <br>\n",
    "(i) how accurately it can be learned from a limited number of training examples, and <br>\n",
    "(ii) how accurately it can predict unseen sites. Consider a set of binding sites for transcription factor F: X1, X2, ..., Xm, each of length k. Consider also a set Xm+1...Xm+n (each of length k) of sites that are not bound by transcription factor F. <br>\n",
    "\n",
    "Let us denote bound(i) = 1 if 1 ≤ i ≤m<br>\n",
    "0 if m+1 ≤ i ≤ n<br>\n",
    "i.e. bound(i) = 1 if Xi is a binding site and bound(i) = 0 otherwise.\n",
    "￼￼￼\n",
    "The usefulness of a motif can be assessed by measuring its sensitivity and specificity using leave- one-out cross-validation (LOOCV):<br>\n",
    "TruePos = TrueNeg = 0 for i = 1...m+n do {<br>\n",
    "Train function f on all examples except Xi<br>\n",
    "If f(Xi) = 1 AND bound(i) = 1 then TruePos = TruePos + 1<br>\n",
    "If f(Xi) = 1 AND bound(i) = 0 then FalsePos = FalsePos + 1<br>\n",
    "If f(Xi) = 0 AND bound(i) = 0 THEN TrueNeg = TrueNeg + 1 If f(Xi) = 0 AND bound(i) = 1 THEN FalseNeg = FalseNeg + 1\n",
    "}<br>\n",
    "/* Fraction of true positives correctly predicted */ Sensitivity = TruePos / (TruePos + FalseNeg) = TruePos/m<br>\n",
    "/* Fraction of true negatives correctly predicted */ Specificity = TrueNeg / (TrueNeg + FalsePos) = TrueNeg/n<br>"
   ]
  },
  {
   "cell_type": "markdown",
   "metadata": {},
   "source": []
  },
  {
   "cell_type": "code",
   "execution_count": 1,
   "metadata": {
    "collapsed": false
   },
   "outputs": [],
   "source": [
    "with open(\"dataset1negative.txt\",\"r\") as f3:\n",
    "    N1 = [(line.rstrip('\\n')) for line in f3]\n",
    "with open(\"dataset1positive.txt\",\"r\") as f4:\n",
    "    P1 = [(line.rstrip('\\n')) for line in f4]\n",
    "with open(\"dataset2negative.txt\",\"r\") as f5:\n",
    "    N2 = [(line.rstrip('\\n')) for line in f5]\n",
    "with open(\"dataset2positive.txt\",\"r\") as f6:\n",
    "    P2 = [(line.rstrip('\\n')) for line in f6]"
   ]
  },
  {
   "cell_type": "code",
   "execution_count": 2,
   "metadata": {
    "collapsed": false
   },
   "outputs": [],
   "source": [
    "def createCounter():\n",
    "    counter = {'A':0, 'C':0, 'G':0, 'T':0}\n",
    "    return counter\n",
    "\n",
    "def findConsensus(seqList):\n",
    "    counter = []\n",
    "    length = len(seqList)\n",
    "    \n",
    "    for i in range(6):\n",
    "        counter.append(createCounter())\n",
    "    \n",
    "    for i in range(length):\n",
    "        for j in range(6):\n",
    "            nucleo = seqList[i][j]\n",
    "            counter[j][nucleo] +=1\n",
    "    \n",
    "    threshold = int(0.9*length)\n",
    "    returning = ['']*6\n",
    "    \n",
    "    for i in range(6):\n",
    "        count = counter[i]\n",
    "        nucleotide = max(count, key=count.get)\n",
    "        value = count[nucleotide]\n",
    "        \n",
    "        if value >= threshold:\n",
    "            returning[i] = nucleotide\n",
    "        else:\n",
    "            del count[nucleotide]\n",
    "            nucleotide2 = max(count, key=count.get)\n",
    "            value2 = count[nucleotide2]\n",
    "            total = value + value2\n",
    "            \n",
    "            if total >= threshold:\n",
    "                returning[i] = nucleotide + nucleotide2\n",
    "            else:\n",
    "                returning[i] = 'ACGT'\n",
    "    \n",
    "    return returning"
   ]
  },
  {
   "cell_type": "code",
   "execution_count": 3,
   "metadata": {
    "collapsed": false
   },
   "outputs": [],
   "source": [
    "def bound(actualSeq,conSeq):\n",
    "    binding = True\n",
    "    for i in range(6):\n",
    "        if actualSeq[i] not in conSeq[i]:\n",
    "            binding = False\n",
    "            return binding\n",
    "    return binding\n",
    "    \n",
    "def crossValidation(positive,negative):\n",
    "    TruePos = 0\n",
    "    TrueNeg = 0\n",
    "    FalsePos = 0\n",
    "    FalseNeg = 0\n",
    "    \n",
    "    pLength = len(positive)\n",
    "    nLength = len(negative)\n",
    "    \n",
    "    p = positive[:]\n",
    "    n = negative[:]\n",
    "    \n",
    "    for i in range(pLength):\n",
    "        p.remove(p[i])\n",
    "        consensus = findConsensus(p)\n",
    "        \n",
    "        isBinding = bound(positive[i],consensus)\n",
    "        if isBinding:\n",
    "            TruePos += 1\n",
    "        else:\n",
    "            FalsePos += 1\n",
    "        \n",
    "#         for j in range(len(p)):\n",
    "#             isBinding = bound(p[j],consensus)\n",
    "#             if isBinding:\n",
    "#                 TruePos += 1\n",
    "#             else:\n",
    "#                 FalsePos += 1\n",
    "#         for j in range(nLength):\n",
    "#             isBinding = bound(n[j],consensus)\n",
    "#             if isBinding:\n",
    "#                 FalseNeg += 1\n",
    "#             else:\n",
    "#                 TrueNeg +=1\n",
    "        p = positive[:]\n",
    "    \n",
    "    consensus = findConsensus(positive)\n",
    "    for i in range(nLength):\n",
    "#         n.remove(n[i])\n",
    "#         consensus = findConsensus(positive)\n",
    "        isBinding = bound(negative[i],consensus)\n",
    "        if isBinding:\n",
    "            FalseNeg += 1\n",
    "        else:\n",
    "            TrueNeg +=1\n",
    "            \n",
    "#         for j in range(len(p)):\n",
    "#             isBinding = bound(p[j],consensus)\n",
    "#             if isBinding:\n",
    "#                 TruePos += 1\n",
    "#             else:\n",
    "#                 FalsePos += 1\n",
    "#         for j in range(len(n)):\n",
    "#             isBinding = bound(n[j],consensus)\n",
    "#             if isBinding:\n",
    "#                 FalseNeg += 1\n",
    "#             else:\n",
    "#                 TrueNeg +=1\n",
    "#         n = negative[:]\n",
    "    \n",
    "    sensitivity = float(TruePos) / len(positive)\n",
    "    specificity = float(TrueNeg) / len(negative)\n",
    "    \n",
    "    return sensitivity,specificity\n",
    "    "
   ]
  },
  {
   "cell_type": "markdown",
   "metadata": {},
   "source": [
    "###PART A\n",
    "Write a program to assess the sensitivity and specificity of the following motif model and training procedure. Motifs are represented by consensus sequences on the alphabet A, C, G, T, A|C, A|G, A|T, C|G, C|T, G|T, A|C|G|T and are learned from a set of positive sites using the following rule:\n",
    "If nucleotide x occurs in at least 90% of the positive sites at a given position, then the consensus is x. Otherwise, if nucleotides x and y together occur in at least 90% of the sites, then the consensus is x|y. Otherwise, the consensus is A|C|G|T. Note that this training procedure completely ignores the negative training set.\n",
    "Calculate the sensitivity and specificity of this method on datasets #1 and #2."
   ]
  },
  {
   "cell_type": "code",
   "execution_count": 4,
   "metadata": {
    "collapsed": false
   },
   "outputs": [],
   "source": [
    "sensitivity,specificity=crossValidation(P1,N1)"
   ]
  },
  {
   "cell_type": "code",
   "execution_count": 5,
   "metadata": {
    "collapsed": true
   },
   "outputs": [],
   "source": [
    "sensitivity2,specificity2 = crossValidation(P2,N2)"
   ]
  },
  {
   "cell_type": "code",
   "execution_count": 6,
   "metadata": {
    "collapsed": false
   },
   "outputs": [
    {
     "name": "stdout",
     "output_type": "stream",
     "text": [
      "The sensitivity for dataset 1: 0.5\n",
      "The specificity for dataset 1: 0.8292682926829268\n",
      "\n",
      "The sensitivity for dataset 2: 0.96\n",
      "The specificity for dataset 2: 0.8048780487804879\n"
     ]
    }
   ],
   "source": [
    "print(\"The sensitivity for dataset 1: \" + str(sensitivity))\n",
    "print(\"The specificity for dataset 1: \" + str(specificity))\n",
    "print(\"\")\n",
    "print(\"The sensitivity for dataset 2: \" + str(sensitivity2))\n",
    "print(\"The specificity for dataset 2: \" + str(specificity2))"
   ]
  },
  {
   "cell_type": "markdown",
   "metadata": {},
   "source": [
    "###PART B\n",
    "Write a program to assess the sensitivity and specificity of the following motif model and training procedure. Motifs are represented by position weight matrices trained using the following procedure:\n",
    "M(i,j) = (# of sites with nucleotide i at position j ) / (# of sites)\n",
    "\n",
    "Remains the question of selecting the threshold above which a site will be predicted as positive. One way to do so is to choose threshold t to minimize the number of classification errors (false-positives + false-negatives) on the given training set of sites. What is the sensitivity and specificity of the method on dataset #1 and #2?\n"
   ]
  },
  {
   "cell_type": "code",
   "execution_count": 7,
   "metadata": {
    "collapsed": false
   },
   "outputs": [],
   "source": [
    "import numpy as np\n",
    "\n",
    "def createWM(positive):\n",
    "    matrix = np.zeros((4,6))\n",
    "    length = len(positive)\n",
    "    \n",
    "    for i in range(length):\n",
    "        for j in range(len(positive[i])):\n",
    "            if positive[i][j] =='A':\n",
    "                matrix[0][j] += 1\n",
    "            if positive[i][j] =='C':\n",
    "                matrix[1][j] += 1\n",
    "            if positive[i][j] =='G':\n",
    "                matrix[2][j] += 1\n",
    "            if positive[i][j] =='T':\n",
    "                matrix[3][j] += 1\n",
    "    \n",
    "    return matrix/length\n",
    "    \n",
    "def isPositive(wMatrix, sequence,threshold):\n",
    "    \n",
    "    for i in range(len(sequence)):\n",
    "        nucleotide = sequence[i]\n",
    "        if nucleotide == 'A':\n",
    "            prob = wMatrix[0][i]\n",
    "        if nucleotide == 'C':\n",
    "            prob = wMatrix[1][i]\n",
    "        if nucleotide == 'G':\n",
    "            prob = wMatrix[2][i]\n",
    "        if nucleotide == 'T':\n",
    "            prob = wMatrix[3][i]\n",
    "        \n",
    "        if prob > threshold:\n",
    "            continue\n",
    "        else:\n",
    "            return False\n",
    "    \n",
    "    return True\n",
    "\n",
    "def trainingCV(positive,negative,threshold):\n",
    "    TruePos = 0\n",
    "    TrueNeg = 0\n",
    "    FalsePos = 0\n",
    "    FalseNeg = 0\n",
    "    \n",
    "    pLength = len(positive)\n",
    "    nLength = len(negative)\n",
    "    \n",
    "    p = positive[:]\n",
    "    n = negative[:]\n",
    "    \n",
    "    for i in range(pLength):\n",
    "        p.remove(p[i])\n",
    "        matrix = createWM(p)\n",
    "        \n",
    "        \n",
    "        isPos = isPositive(matrix,positive[i],threshold)\n",
    "        if isPos:\n",
    "            TruePos += 1\n",
    "        else:\n",
    "            FalsePos += 1\n",
    "        p = positive[:]\n",
    "    \n",
    "    matrix = createWM(positive)\n",
    "    for i in range(nLength):\n",
    "        \n",
    "        isPos = isPositive(matrix,n[i],threshold)\n",
    "        if isPos:\n",
    "            FalseNeg += 1\n",
    "        else:\n",
    "            TrueNeg +=1\n",
    "    \n",
    "    sensitivity = float(TruePos) / pLength\n",
    "    specificity = float(TrueNeg) / nLength\n",
    "    \n",
    "    return sensitivity,specificity, FalsePos, FalseNeg"
   ]
  },
  {
   "cell_type": "code",
   "execution_count": 8,
   "metadata": {
    "collapsed": true
   },
   "outputs": [],
   "source": [
    "def thresholdCV(positive,negative):\n",
    "    \n",
    "    threshold = [float(i)/40 for i in range(1,41)]\n",
    "    myresult = []\n",
    "    myresult2 = []\n",
    "    myresult3 = []\n",
    "    myresult4 = []\n",
    "    for i in threshold:\n",
    "        sensitivity,specificity, FalsePos, FalseNeg = trainingCV(positive,negative,i)\n",
    "        myresult.append(sensitivity)\n",
    "        myresult2.append(specificity)\n",
    "        myresult3.append(FalsePos)\n",
    "        myresult4.append(FalseNeg)\n",
    "    return threshold, myresult, myresult2,myresult3, myresult4"
   ]
  },
  {
   "cell_type": "code",
   "execution_count": 9,
   "metadata": {
    "collapsed": false
   },
   "outputs": [],
   "source": [
    "t,sensitivity,specificity,FalsePos, FalseNeg = thresholdCV(P1,N1)\n",
    "t2,sensitivity2,specificity2,FalsePos2, FalseNeg2 = thresholdCV(P2,N2)"
   ]
  },
  {
   "cell_type": "code",
   "execution_count": 10,
   "metadata": {
    "collapsed": false
   },
   "outputs": [
    {
     "name": "stdout",
     "output_type": "stream",
     "text": [
      "0.025 0.5 0.7439024390243902 5 21\n",
      "0.05 0.5 0.7439024390243902 5 21\n",
      "0.075 0.5 0.7439024390243902 5 21\n",
      "0.1 0.5 0.8536585365853658 5 12\n",
      "0.125 0.5 0.8536585365853658 5 12\n",
      "0.15 0.5 0.8536585365853658 5 12\n",
      "0.175 0.5 0.8536585365853658 5 12\n",
      "0.2 0.5 0.8536585365853658 5 12\n",
      "0.225 0.3 0.8536585365853658 7 12\n",
      "0.25 0.3 0.8536585365853658 7 12\n",
      "0.275 0.3 0.8536585365853658 7 12\n",
      "0.3 0.3 0.9634146341463414 7 3\n",
      "0.325 0.3 0.9634146341463414 7 3\n",
      "0.35 0.1 0.9634146341463414 9 3\n",
      "0.375 0.1 0.9634146341463414 9 3\n",
      "0.4 0.1 1.0 9 0\n",
      "0.425 0.1 1.0 9 0\n",
      "0.45 0.1 1.0 9 0\n",
      "0.475 0.1 1.0 9 0\n",
      "0.5 0.1 1.0 9 0\n",
      "0.525 0.1 1.0 9 0\n",
      "0.55 0.1 1.0 9 0\n",
      "0.575 0.0 1.0 10 0\n",
      "0.6 0.0 1.0 10 0\n",
      "0.625 0.0 1.0 10 0\n",
      "0.65 0.0 1.0 10 0\n",
      "0.675 0.0 1.0 10 0\n",
      "0.7 0.0 1.0 10 0\n",
      "0.725 0.0 1.0 10 0\n",
      "0.75 0.0 1.0 10 0\n",
      "0.775 0.0 1.0 10 0\n",
      "0.8 0.0 1.0 10 0\n",
      "0.825 0.0 1.0 10 0\n",
      "0.85 0.0 1.0 10 0\n",
      "0.875 0.0 1.0 10 0\n",
      "0.9 0.0 1.0 10 0\n",
      "0.925 0.0 1.0 10 0\n",
      "0.95 0.0 1.0 10 0\n",
      "0.975 0.0 1.0 10 0\n",
      "1.0 0.0 1.0 10 0\n"
     ]
    }
   ],
   "source": [
    "for i in range(len(t)):\n",
    "    print (t[i],sensitivity[i],specificity[i],FalsePos[i], FalseNeg[i])"
   ]
  },
  {
   "cell_type": "code",
   "execution_count": 11,
   "metadata": {
    "collapsed": false
   },
   "outputs": [
    {
     "name": "stdout",
     "output_type": "stream",
     "text": [
      "0.025 0.96 0.8048780487804879 4 16\n",
      "0.05 0.96 0.8048780487804879 4 16\n",
      "0.075 0.96 0.8048780487804879 4 16\n",
      "0.1 0.77 0.8536585365853658 23 12\n",
      "0.125 0.69 0.8536585365853658 31 12\n",
      "0.15 0.69 0.8536585365853658 31 12\n",
      "0.175 0.69 0.8536585365853658 31 12\n",
      "0.2 0.69 0.8536585365853658 31 12\n",
      "0.225 0.69 0.8536585365853658 31 12\n",
      "0.25 0.69 0.8536585365853658 31 12\n",
      "0.275 0.69 0.8536585365853658 31 12\n",
      "0.3 0.69 0.8536585365853658 31 12\n",
      "0.325 0.69 0.8536585365853658 31 12\n",
      "0.35 0.69 0.8536585365853658 31 12\n",
      "0.375 0.69 0.8536585365853658 31 12\n",
      "0.4 0.26 0.9634146341463414 74 3\n",
      "0.425 0.26 0.9634146341463414 74 3\n",
      "0.45 0.26 0.9634146341463414 74 3\n",
      "0.475 0.26 0.9634146341463414 74 3\n",
      "0.5 0.0 1.0 100 0\n",
      "0.525 0.0 1.0 100 0\n",
      "0.55 0.0 1.0 100 0\n",
      "0.575 0.0 1.0 100 0\n",
      "0.6 0.0 1.0 100 0\n",
      "0.625 0.0 1.0 100 0\n",
      "0.65 0.0 1.0 100 0\n",
      "0.675 0.0 1.0 100 0\n",
      "0.7 0.0 1.0 100 0\n",
      "0.725 0.0 1.0 100 0\n",
      "0.75 0.0 1.0 100 0\n",
      "0.775 0.0 1.0 100 0\n",
      "0.8 0.0 1.0 100 0\n",
      "0.825 0.0 1.0 100 0\n",
      "0.85 0.0 1.0 100 0\n",
      "0.875 0.0 1.0 100 0\n",
      "0.9 0.0 1.0 100 0\n",
      "0.925 0.0 1.0 100 0\n",
      "0.95 0.0 1.0 100 0\n",
      "0.975 0.0 1.0 100 0\n",
      "1.0 0.0 1.0 100 0\n"
     ]
    }
   ],
   "source": [
    "for i in range(len(t2)):\n",
    "    print (t2[i],sensitivity2[i],specificity2[i],FalsePos2[i], FalseNeg2[i])"
   ]
  },
  {
   "cell_type": "markdown",
   "metadata": {},
   "source": [
    "Threshold: 0.1 <br>\n",
    "dataset 1: Sensitivity 0.5; specificity 0.8536585365853658 <br>\n",
    "With 5 false positives and 12 false negatives <br>\n",
    "dataset 2: Sensitivity 0.77; specificity 0.8536585365853658 <br>\n",
    "With 23 false positives and 12 false negatives <br>"
   ]
  },
  {
   "cell_type": "markdown",
   "metadata": {},
   "source": [
    "###PART C\n",
    "Using the same method as described in (b), one can instead leave the threshold t as a free parameter that can be set by the user. Then, any choice of t will lead to a particular sensitivity and specificity. One can then draw the sensitivity-specificity curve, also known at the Receiving-Operating Curve (ROC), which is a curve showing, for every possible values of t (with small increment over the range of values of t that is\n",
    "￼￼\n",
    "relevant), the resulting sensitivity (y-axis) and specificity (x-axis). Generate and draw this curve for dataset #1 and dataset #2.\n"
   ]
  },
  {
   "cell_type": "code",
   "execution_count": 22,
   "metadata": {
    "collapsed": false
   },
   "outputs": [
    {
     "data": {
      "image/png": "[encoded data removed]",
      "text/plain": [
       "<matplotlib.figure.Figure at 0x10854de48>"
      ]
     },
     "metadata": {},
     "output_type": "display_data"
    },
    {
     "data": {
      "image/png": "[encoded data removed]",
      "text/plain": [
       "<matplotlib.figure.Figure at 0x10906b9b0>"
      ]
     },
     "metadata": {},
     "output_type": "display_data"
    }
   ],
   "source": [
    "from sklearn.metrics import auc\n",
    "import matplotlib.pyplot as plt\n",
    "%matplotlib inline\n",
    "\n",
    "Sensi1 = sensitivity[:]\n",
    "Speci1 = specificity[:]\n",
    "roc_auc1 = auc(Speci1, Sensi1)\n",
    "\n",
    "\n",
    "\n",
    "plt.figure(figsize=(6,6))\n",
    "plt.plot(Speci1, Sensi1, label='ROC curve DATASET 1' % roc_auc1)\n",
    "plt.xlim([0.7, 1.0])\n",
    "plt.ylim([0.0, 0.6])\n",
    "plt.xlabel('Specificity')\n",
    "plt.ylabel('Sensitivity')\n",
    "plt.title('Specificity vs Sensiticity in DATASET 1, with varying t')\n",
    "plt.show()\n",
    "\n",
    "plt.plot(Speci1, Sensi1, 'ro')\n",
    "plt.show()"
   ]
  },
  {
   "cell_type": "code",
   "execution_count": 24,
   "metadata": {
    "collapsed": false
   },
   "outputs": [
    {
     "name": "stdout",
     "output_type": "stream",
     "text": [
      "[0.96, 0.96, 0.96, 0.77, 0.69, 0.69, 0.69, 0.69, 0.69, 0.69, 0.69, 0.69, 0.69, 0.69, 0.69, 0.26, 0.26, 0.26, 0.26, 0.0, 0.0, 0.0, 0.0, 0.0, 0.0, 0.0, 0.0, 0.0, 0.0, 0.0, 0.0, 0.0, 0.0, 0.0, 0.0, 0.0, 0.0, 0.0, 0.0, 0.0]\n",
      "[0.8048780487804879, 0.8048780487804879, 0.8048780487804879, 0.8536585365853658, 0.8536585365853658, 0.8536585365853658, 0.8536585365853658, 0.8536585365853658, 0.8536585365853658, 0.8536585365853658, 0.8536585365853658, 0.8536585365853658, 0.8536585365853658, 0.8536585365853658, 0.8536585365853658, 0.9634146341463414, 0.9634146341463414, 0.9634146341463414, 0.9634146341463414, 1.0, 1.0, 1.0, 1.0, 1.0, 1.0, 1.0, 1.0, 1.0, 1.0, 1.0, 1.0, 1.0, 1.0, 1.0, 1.0, 1.0, 1.0, 1.0, 1.0, 1.0]\n"
     ]
    },
    {
     "data": {
      "image/png": "[encoded data removed]",
      "text/plain": [
       "<matplotlib.figure.Figure at 0x108575358>"
      ]
     },
     "metadata": {},
     "output_type": "display_data"
    },
    {
     "data": {
      "image/png": "[encoded data removed]",
      "text/plain": [
       "<matplotlib.figure.Figure at 0x10863b198>"
      ]
     },
     "metadata": {},
     "output_type": "display_data"
    }
   ],
   "source": [
    "Sensi2 = sensitivity2[:]\n",
    "Speci2 = specificity2[:]\n",
    "print(Sensi2)\n",
    "print(Speci2)\n",
    "roc_auc2 = auc(Speci2, Sensi2)\n",
    "\n",
    "plt.figure(figsize=(6,6))\n",
    "plt.plot(Speci2, Sensi2, label='ROC curve DATASET 2' % roc_auc2)\n",
    "plt.xlim([0.8, 1.0])\n",
    "plt.ylim([0.0, 1.00])\n",
    "plt.xlabel('Specificity')\n",
    "plt.ylabel('Sensitivity')\n",
    "plt.title('Specificity vs Sensiticity in DATASET 2, with varying t')\n",
    "plt.show()\n",
    "\n",
    "plt.plot(Speci2, Sensi2, 'ro')\n",
    "plt.show()"
   ]
  },
  {
   "cell_type": "markdown",
   "metadata": {},
   "source": [
    "###PART D\n",
    "One big problem with the type of training procedure for PWM seen in (b) is that if a nucleotide has never been observed at a given position of the positive sites, then any site that would contain it would be predicted as a negative (its score will be zero). The problem is caused by the fact that a probability distribution cannot be learned accurately from a finite sample. In particular, rare events are often unobserved in a small sample, even though their probability is not zero. One way of partially addressing this problem is to use pseudocounts, which consist of imaginary observations of A, C, G, and T. Specifically, in addition to the actual nucleotides observed in the real data, one would add a certain number x of fake observations:\n",
    "M(i,j) = ( (# of sites with nucleotide i at position j ) + x ) / (# of sites + 4 x)\n",
    "Generate and draw the sensitivity-specificity curve for dataset #1 and dataset #2, for x=1. Is it better than that obtained in (c) ?"
   ]
  },
  {
   "cell_type": "code",
   "execution_count": 104,
   "metadata": {
    "collapsed": false
   },
   "outputs": [],
   "source": [
    "def createWMfix(positive,x):\n",
    "    matrix = np.zeros((4,6))\n",
    "    length = len(positive)\n",
    "    \n",
    "    for i in range(length):\n",
    "        for j in range(len(positive[i])):\n",
    "            if positive[i][j] =='A':\n",
    "                matrix[0][j] += 1\n",
    "            if positive[i][j] =='C':\n",
    "                matrix[1][j] += 1\n",
    "            if positive[i][j] =='G':\n",
    "                matrix[2][j] += 1\n",
    "            if positive[i][j] =='T':\n",
    "                matrix[3][j] += 1\n",
    "    \n",
    "    for i in range(len(matrix)):\n",
    "        for j in range(len(matrix[i])):\n",
    "            matrix[i][j] += x\n",
    "\n",
    "    length = (length+(4*x))\n",
    "    \n",
    "    return matrix/length\n",
    "\n",
    "def trainingCV2(positive,negative,threshold):\n",
    "    TruePos = 0\n",
    "    TrueNeg = 0\n",
    "    FalsePos = 0\n",
    "    FalseNeg = 0\n",
    "    \n",
    "    pLength = len(positive)\n",
    "    nLength = len(negative)\n",
    "    \n",
    "    p = positive[:]\n",
    "    n = negative[:]\n",
    "    \n",
    "    x = 6\n",
    "    \n",
    "    for i in range(pLength):\n",
    "        p.remove(p[i])\n",
    "        matrix = createWMfix(p,x)\n",
    "        \n",
    "        isPos = isPositive(matrix,positive[i],threshold)\n",
    "        if isPos:\n",
    "            TruePos += 1\n",
    "        else:\n",
    "            FalsePos += 1\n",
    "        p = positive[:]\n",
    "    \n",
    "    matrix = createWMfix(positive,x)\n",
    "    for i in range(nLength):\n",
    "        \n",
    "        isPos = isPositive(matrix,n[i],threshold)\n",
    "        if isPos:\n",
    "            FalseNeg += 1\n",
    "        else:\n",
    "            TrueNeg +=1\n",
    "    \n",
    "    sensitivity = float(TruePos) / pLength\n",
    "    specificity = float(TrueNeg) / nLength\n",
    "    \n",
    "    return sensitivity,specificity, FalsePos, FalseNeg\n",
    "\n",
    "def thresholdCV2(positive,negative):\n",
    "    \n",
    "    threshold = [float(i)/40 for i in range(1,41)]\n",
    "    myresult = []\n",
    "    myresult2 = []\n",
    "    myresult3 = []\n",
    "    myresult4 = []\n",
    "    for i in threshold:\n",
    "        sensitivity,specificity, FalsePos, FalseNeg = trainingCV2(positive,negative,i)\n",
    "        myresult.append(sensitivity)\n",
    "        myresult2.append(specificity)\n",
    "        myresult3.append(FalsePos)\n",
    "        myresult4.append(FalseNeg)\n",
    "    return threshold, myresult, myresult2,myresult3, myresult4"
   ]
  },
  {
   "cell_type": "code",
   "execution_count": 105,
   "metadata": {
    "collapsed": false
   },
   "outputs": [],
   "source": [
    "t3,sensitivity3,specificity3,FalsePos3, FalseNeg3 = thresholdCV2(P1,N1)\n",
    "t4,sensitivity4,specificity4,FalsePos4, FalseNeg4 = thresholdCV2(P2,N2)"
   ]
  },
  {
   "cell_type": "code",
   "execution_count": 106,
   "metadata": {
    "collapsed": false
   },
   "outputs": [
    {
     "name": "stdout",
     "output_type": "stream",
     "text": [
      "0.025 1.0 0.0 0 82\n",
      "0.05 1.0 0.0 0 82\n",
      "0.075 1.0 0.0 0 82\n",
      "0.1 1.0 0.0 0 82\n",
      "0.125 1.0 0.0 0 82\n",
      "0.15 1.0 0.0 0 82\n",
      "0.175 1.0 0.0 0 82\n",
      "0.2 0.5 0.7439024390243902 5 21\n",
      "0.225 0.5 0.8536585365853658 5 12\n",
      "0.25 0.3 0.8536585365853658 7 12\n",
      "0.275 0.1 0.9634146341463414 9 3\n",
      "0.3 0.1 1.0 9 0\n",
      "0.325 0.1 1.0 9 0\n",
      "0.35 0.0 1.0 10 0\n",
      "0.375 0.0 1.0 10 0\n",
      "0.4 0.0 1.0 10 0\n",
      "0.425 0.0 1.0 10 0\n",
      "0.45 0.0 1.0 10 0\n",
      "0.475 0.0 1.0 10 0\n",
      "0.5 0.0 1.0 10 0\n",
      "0.525 0.0 1.0 10 0\n",
      "0.55 0.0 1.0 10 0\n",
      "0.575 0.0 1.0 10 0\n",
      "0.6 0.0 1.0 10 0\n",
      "0.625 0.0 1.0 10 0\n",
      "0.65 0.0 1.0 10 0\n",
      "0.675 0.0 1.0 10 0\n",
      "0.7 0.0 1.0 10 0\n",
      "0.725 0.0 1.0 10 0\n",
      "0.75 0.0 1.0 10 0\n",
      "0.775 0.0 1.0 10 0\n",
      "0.8 0.0 1.0 10 0\n",
      "0.825 0.0 1.0 10 0\n",
      "0.85 0.0 1.0 10 0\n",
      "0.875 0.0 1.0 10 0\n",
      "0.9 0.0 1.0 10 0\n",
      "0.925 0.0 1.0 10 0\n",
      "0.95 0.0 1.0 10 0\n",
      "0.975 0.0 1.0 10 0\n",
      "1.0 0.0 1.0 10 0\n"
     ]
    }
   ],
   "source": [
    "for i in range(len(t3)):\n",
    "    print (t3[i],sensitivity3[i],specificity3[i],FalsePos3[i], FalseNeg3[i])"
   ]
  },
  {
   "cell_type": "code",
   "execution_count": 107,
   "metadata": {
    "collapsed": false
   },
   "outputs": [
    {
     "data": {
      "image/png": "[encoded data removed]",
      "text/plain": [
       "<matplotlib.figure.Figure at 0x108016128>"
      ]
     },
     "metadata": {},
     "output_type": "display_data"
    },
    {
     "data": {
      "image/png": "[encoded data removed]",
      "text/plain": [
       "<matplotlib.figure.Figure at 0x109328eb8>"
      ]
     },
     "metadata": {},
     "output_type": "display_data"
    }
   ],
   "source": [
    "Sensi3 = sensitivity3[:]\n",
    "Speci3 = specificity3[:]\n",
    "roc_auc3 = auc(Speci3, Sensi3)\n",
    "\n",
    "\n",
    "\n",
    "plt.figure(figsize=(6,6))\n",
    "plt.plot(Speci1, Sensi1, label='ROC curve DATASET 1' % roc_auc3)\n",
    "plt.xlim([0.7, 1.0])\n",
    "plt.ylim([0.0, 1.0])\n",
    "plt.xlabel('Specificity')\n",
    "plt.ylabel('Sensitivity')\n",
    "plt.title('Specificity vs Sensiticity in DATASET 1, with varying t')\n",
    "plt.show()\n",
    "\n",
    "plt.plot(Speci3, Sensi3, 'ro')\n",
    "plt.show()"
   ]
  },
  {
   "cell_type": "code",
   "execution_count": 108,
   "metadata": {
    "collapsed": false
   },
   "outputs": [
    {
     "name": "stdout",
     "output_type": "stream",
     "text": [
      "0.025 1.0 0.0 0 82\n",
      "0.05 0.98 0.6829268292682927 2 26\n",
      "0.075 0.96 0.8048780487804879 4 16\n",
      "0.1 0.96 0.8048780487804879 4 16\n",
      "0.125 0.77 0.8048780487804879 23 16\n",
      "0.15 0.69 0.8536585365853658 31 12\n",
      "0.175 0.69 0.8536585365853658 31 12\n",
      "0.2 0.69 0.8536585365853658 31 12\n",
      "0.225 0.69 0.8536585365853658 31 12\n",
      "0.25 0.69 0.8536585365853658 31 12\n",
      "0.275 0.69 0.8536585365853658 31 12\n",
      "0.3 0.69 0.8536585365853658 31 12\n",
      "0.325 0.69 0.8536585365853658 31 12\n",
      "0.35 0.69 0.8536585365853658 31 12\n",
      "0.375 0.26 0.9634146341463414 74 3\n",
      "0.4 0.26 0.9634146341463414 74 3\n",
      "0.425 0.26 0.9634146341463414 74 3\n",
      "0.45 0.0 0.9634146341463414 100 3\n",
      "0.475 0.0 1.0 100 0\n",
      "0.5 0.0 1.0 100 0\n",
      "0.525 0.0 1.0 100 0\n",
      "0.55 0.0 1.0 100 0\n",
      "0.575 0.0 1.0 100 0\n",
      "0.6 0.0 1.0 100 0\n",
      "0.625 0.0 1.0 100 0\n",
      "0.65 0.0 1.0 100 0\n",
      "0.675 0.0 1.0 100 0\n",
      "0.7 0.0 1.0 100 0\n",
      "0.725 0.0 1.0 100 0\n",
      "0.75 0.0 1.0 100 0\n",
      "0.775 0.0 1.0 100 0\n",
      "0.8 0.0 1.0 100 0\n",
      "0.825 0.0 1.0 100 0\n",
      "0.85 0.0 1.0 100 0\n",
      "0.875 0.0 1.0 100 0\n",
      "0.9 0.0 1.0 100 0\n",
      "0.925 0.0 1.0 100 0\n",
      "0.95 0.0 1.0 100 0\n",
      "0.975 0.0 1.0 100 0\n",
      "1.0 0.0 1.0 100 0\n"
     ]
    }
   ],
   "source": [
    "for i in range(len(t4)):\n",
    "    print (t4[i],sensitivity4[i],specificity4[i],FalsePos4[i], FalseNeg4[i])"
   ]
  },
  {
   "cell_type": "code",
   "execution_count": 109,
   "metadata": {
    "collapsed": false
   },
   "outputs": [
    {
     "data": {
      "image/png": "[encoded data removed]",
      "text/plain": [
       "<matplotlib.figure.Figure at 0x107ca85c0>"
      ]
     },
     "metadata": {},
     "output_type": "display_data"
    },
    {
     "data": {
      "image/png": "[encoded data removed]",
      "text/plain": [
       "<matplotlib.figure.Figure at 0x108006b70>"
      ]
     },
     "metadata": {},
     "output_type": "display_data"
    }
   ],
   "source": [
    "Sensi4 = sensitivity4[:]\n",
    "Speci4 = specificity4[:]\n",
    "roc_auc4 = auc(Speci4, Sensi4)\n",
    "\n",
    "plt.figure(figsize=(6,6))\n",
    "plt.plot(Speci4, Sensi4, label='ROC curve DATASET 2' % roc_auc4)\n",
    "plt.xlim([0.7, 1.0])\n",
    "plt.ylim([0.0, 1.00])\n",
    "plt.xlabel('Specificity')\n",
    "plt.ylabel('Sensitivity')\n",
    "plt.title('Specificity vs Sensiticity in DATASET 2, with varying t')\n",
    "plt.show()\n",
    "\n",
    "plt.plot(Speci4, Sensi4, 'ro')\n",
    "plt.show()"
   ]
  },
  {
   "cell_type": "code",
   "execution_count": null,
   "metadata": {
    "collapsed": true
   },
   "outputs": [],
   "source": []
  },
  {
   "cell_type": "code",
   "execution_count": null,
   "metadata": {
    "collapsed": true
   },
   "outputs": [],
   "source": []
  },
  {
   "cell_type": "code",
   "execution_count": null,
   "metadata": {
    "collapsed": true
   },
   "outputs": [],
   "source": []
  },
  {
   "cell_type": "code",
   "execution_count": null,
   "metadata": {
    "collapsed": true
   },
   "outputs": [],
   "source": []
  }
 ],
 "metadata": {
  "kernelspec": {
   "display_name": "Python 3",
   "language": "python",
   "name": "python3"
  },
  "language_info": {
   "codemirror_mode": {
    "name": "ipython",
    "version": 3
   },
   "file_extension": ".py",
   "mimetype": "text/x-python",
   "name": "python",
   "nbconvert_exporter": "python",
   "pygments_lexer": "ipython3",
   "version": "3.4.3"
  }
 },
 "nbformat": 4,
 "nbformat_minor": 0
}
